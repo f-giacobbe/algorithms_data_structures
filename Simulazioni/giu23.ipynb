{
 "cells": [
  {
   "cell_type": "markdown",
   "id": "34348bebff7d3f09",
   "metadata": {},
   "source": [
    "# Esercizio 1\n",
    "\n",
    "Si consideri una classe AlberoBin che rappresenta alberi binari in cui la parte informativa di ogni\n",
    "nodo è un numero intero. Si assuma che in tale classe siano implementati i seguenti metodi:\n",
    "\n",
    "```python\n",
    "class AlberoBin:\n",
    "\tdef __init__(self, val):\n",
    "\t\tself.val: int = val\n",
    "\t\tself.sin: AlberoBin = None\n",
    "\t\tself.des: AlberoBin = None\n",
    "```\n",
    "Si deve realizzare una funzione ricorsiva `def twoSum(a:AlberoBin, k: int) ->bool:` che restituisce true se e solo se esistono in a almeno due nodi non foglia, x e y, tali che x.val() +\n",
    "y.val() = k.\n",
    "Si caratterizzi la complessità temporale e spaziale del metodo nel caso migliore e peggiore,\n",
    "specificando anche quali siano il caso migliore ed il caso peggiore per la complessità temporale e\n",
    "spaziale."
   ]
  },
  {
   "cell_type": "code",
   "execution_count": null,
   "id": "d2a07ed02d2385c4",
   "metadata": {},
   "outputs": [],
   "source": [
    "from repo_prof.alberi.alberibinari import AlberoBin\n",
    "\n",
    "\n",
    "\n",
    "def twoSum(a: AlberoBin, k: int) -> bool:\n",
    "\tif a is None:\n",
    "\t\treturn False\n",
    "\n",
    "\treturn __twoSum(a, k, 0, True)\n",
    "\n",
    "\n",
    "def __twoSum(a: AlberoBin, k: int, prev: int, root: bool) -> bool:\n",
    "\tif a.sin is None and a.des is None:\n",
    "\t\treturn False    # Se foglia restituisco False\n",
    "\n",
    "\tif a.val < k:\n",
    "\t\tif not root and prev + a.val == k:\n",
    "\t\t\treturn True\n",
    "\n",
    "\t\treturn __twoSum(a.sin, k, a.val, False) or __twoSum(a.des, k, a.val, False) or __twoSum(a.sin, k, prev, False) or __twoSum(a.des, k, prev, False)\n",
    "\n",
    "\treturn __twoSum(a.sin, k, prev, False) or __twoSum(a.des, k, prev, False)"
   ]
  },
  {
   "cell_type": "markdown",
   "id": "7d886725f6731819",
   "metadata": {},
   "source": [
    "## Complessità\n",
    "- $CTM(n) = \\Theta(1)$. Si ha nel caso in cui il valore della radice + il valore del figlio sinistro della radice siano proprio uguali a k.\n",
    "- $CSM(n) = \\Theta(1)$. Per lo stesso motivo della CTM.\n",
    "- $CTP(n) = \\Theta(n^2)$. Si ha nel caso in cui l'albero sia un albero completo formato da nodi non foglia i cui valori siano tutti strettamente minori di k, ma non si riesce a trovare due nodi non foglia tale per cui valga che x.val() + y.val() = k. La complessità in questo caso può essere ricavata mediante teorema master con a = 4 (si hanno 4 sottoistanze di __twoSum), c = 2 (si dimezza la dimensione del sottoproblema, in quanto chiamo la stessa funzione ma solo sul sottoalbero sinistro o destro di a) e d = 0 (il resto è costante).\n",
    "- $CSP(n) = \\Theta(n)$. Si ha nel caso il cui l'albero sia un albero degenere (es. tutto a sinistra) dove non esistono nodi non foglia che rispettano la condizione cercata."
   ]
  },
  {
   "cell_type": "markdown",
   "id": "c23d42dfa5c4d22c",
   "metadata": {},
   "source": [
    "_______\n",
    "# Esercizio 2\n",
    "Preso un generico algoritmo divide et impera che ad ogni passo suddivide l’istanza corrente in 4\n",
    "sotto-istanze dello stesso problema, ciascuna di dimensione n/2 (dove n è la dimensione dell’istanza\n",
    "in esame), si ricavi la complessità dell’algoritmo supponendo che al netto delle chiamate ricorsive\n",
    "la singola chiamata abbia complessità b* 𝑛^3\n",
    ", dove b è una costante.\n",
    "\n",
    "> L'algoritmo divide et impera in questione ha come equazione di ricorrenza\n",
    "> $$\n",
    "> T(n) =\n",
    "> \\begin{cases}\n",
    "> 4T(n/2) + bn^3 \\quad \\text{se } n > 1 \\\\\n",
    "> b \\quad \\text{se } n \\leq 1\n",
    "> \\end{cases}\n",
    "> $$\n",
    "> Dunque è possibile applicare il teorema master con parametri $a = 4, c = 2, d = 3$. Si ha quindi\n",
    "> $$\n",
    "> \\frac{a}{c^d} = \\frac{4}{2^3} = \\frac{4}{8} < 1\n",
    "> $$\n",
    "> La complessità quindi sarà $\\Theta(n^d) = \\Theta(n^3)$"
   ]
  }
 ],
 "metadata": {
  "kernelspec": {
   "display_name": "Python 3",
   "language": "python",
   "name": "python3"
  },
  "language_info": {
   "codemirror_mode": {
    "name": "ipython",
    "version": 3
   },
   "file_extension": ".py",
   "mimetype": "text/x-python",
   "name": "python",
   "nbconvert_exporter": "python",
   "pygments_lexer": "ipython3",
   "version": "3.13.2"
  }
 },
 "nbformat": 4,
 "nbformat_minor": 5
}
