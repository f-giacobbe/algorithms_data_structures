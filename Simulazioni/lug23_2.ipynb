{
 "cells": [
  {
   "cell_type": "markdown",
   "id": "e6bfc35b",
   "metadata": {},
   "source": [
    "# Esercizio 1\n",
    "Si deve realizzare una funzione ricorsiva `def verifica(a:AlberoBin, l: int) ->bool:` che restituisce true se e solo se tutti i valori contenuti nei nodi al livello l in a sono contenuti anche\n",
    "in nodi al livello l+2 in a.\n",
    "Si caratterizzi la complessità temporale e spaziale del metodo nel caso migliore e peggiore,\n",
    "specificando anche quali siano il caso migliore ed il caso peggiore per la complessità temporale e\n",
    "spaziale."
   ]
  },
  {
   "cell_type": "code",
   "execution_count": null,
   "id": "117f1b69",
   "metadata": {},
   "outputs": [],
   "source": [
    "from repo_prof.alberi.alberibinari import AlberoBin\n",
    "\n",
    "\n",
    "\n",
    "def verifica(a: AlberoBin, l: int) -> bool:\n",
    "    if a is None:\n",
    "        return False\n",
    "\n",
    "    return __verifica(a, a, l, 0)\n",
    "\n",
    "\n",
    "def __verifica(radice: AlberoBin, a: AlberoBin, l: int, liv_curr: int) -> bool:\n",
    "    if a is None or (liv_curr < l and a.sin is None and a.des is None): # Se sono a un livello minore di liv e non posso scendere ulteriormente la condizione non è rispettata\n",
    "        return False\n",
    "\n",
    "    if liv_curr == l:\n",
    "        return __presente(radice, a.val, l + 2, 0)  # È necessario partire dalla radice in quanto il valore potrebbe essere presente a livello l+2, ma non è detto che sia nei sottoalberi del valore stesso in l\n",
    "\n",
    "    if liv_curr < l:\n",
    "        if liv_curr + 1 == l:\n",
    "            return __verifica(radice, a.sin, l, liv_curr + 1) and __verifica(radice, a.des, l, liv_curr + 1)\n",
    "        return __verifica(radice, a.sin, l, liv_curr + 1) or __verifica(radice, a.des, l, liv_curr + 1)\n",
    "\n",
    "\n",
    "def __presente(a: AlberoBin, x: int, liv_target: int, liv_curr: int) -> bool:   # Restituisce True se e solo se nel livello l_target dell'albero a è presente x\n",
    "    if liv_curr < liv_target and a.sin is None and a.des is None:   # Se l'albero non arriva neanche a liv_target vuol dire che x non è presente al livello desiderato\n",
    "        return False\n",
    "\n",
    "    if liv_curr == liv_target:\n",
    "        return a.val == x\n",
    "\n",
    "    return __presente(a.sin, x, liv_target, liv_curr + 1) or __presente(a.des, x, liv_target, liv_curr + 1)"
   ]
  },
  {
   "cell_type": "markdown",
   "id": "7ca93e20",
   "metadata": {},
   "source": [
    "## Complessità\n",
    "- $CTM(n) = \\Theta(1)$ nel caso in cui $l=0$ (o comunque un numero basso) e il primo nodo al livello l che si incontra non rispetta la condizione cercata.\n",
    "- $CSM(n) = \\Theta(1)$ nel medesimo caso.\n",
    "- $CTP(n) = O(n^2)$ nel caso in cui a sia un albero bilanciato e completo, $l=h-3$ (o comunque un numero alto che implichi scorrere la quasi intera altezza dell'albero) e tutti i nodi al livello l rispettano la condizione ma il loro valore viene trovato soltanto nella parte destra del livello $l+2$, si hanno $O(2^l) = O(2^h) = O(2^{log_2n}) = O(n^{log_22}) = O(n)$ chiamate al metodo `__presente`, che tuttavia parte sempre dalla radice per arrivare al livello $l+2$; dunque ha complessità $O(n)$\n",
    "- $CSP(n) = \\Theta(n)$ nel caso di un albero degenere (una lista inclinata a sinistra) dove $l$ è uno degli ultimi livelli dell'albero (es. $l = h-3$) la profondità della ricorsione in `__verifica`e `__presente` arriva a essere lineare."
   ]
  },
  {
   "cell_type": "markdown",
   "id": "4df3d12e",
   "metadata": {},
   "source": [
    "---\n",
    "# Esercizio 2\n",
    "Descrivere (in pseudocodice o usando un linguaggio di programmazione a piacere) l’algoritmo di Floyd-Warshall.\n",
    "\n",
    "```python\n",
    "def floyd(g: GrafoP):\n",
    "    M = [[sys.maxsize for i in range(g.n)] for i in range(g.n)]\n",
    "\n",
    "    for i in range(g.n):\n",
    "        M[i][i] = 0\n",
    "\n",
    "    for a in g.archi():\n",
    "        M[a.x][a.y] = a.p\n",
    "\n",
    "    for z in range(g.n):\n",
    "        for x in range(g.n):\n",
    "            for y in range(g.n):\n",
    "                if M[x][y] > M[x][z] + M[z][y]:\n",
    "                    M[x][y] = M[x][z] + M[z][y]\n",
    "    \n",
    "    return M\n",
    "```"
   ]
  }
 ],
 "metadata": {
  "kernelspec": {
   "display_name": "Python 3",
   "language": "python",
   "name": "python3"
  },
  "language_info": {
   "codemirror_mode": {
    "name": "ipython",
    "version": 3
   },
   "file_extension": ".py",
   "mimetype": "text/x-python",
   "name": "python",
   "nbconvert_exporter": "python",
   "pygments_lexer": "ipython3",
   "version": "3.13.5"
  }
 },
 "nbformat": 4,
 "nbformat_minor": 5
}
