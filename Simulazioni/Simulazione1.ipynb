{
 "cells": [
  {
   "metadata": {},
   "cell_type": "markdown",
   "source": [
    "# Esercizio 1\n",
    "Si consideri la classe AlberoBin. Si crei il metodo `verifica_somma(a: AlberoBin, l: int) -> bool` che restituisce True sse la somma dei valori nei nodi foglia di a è pari alla somma dei nodi contenuti al livello liv di a"
   ],
   "id": "5cc18163d1c637d5"
  },
  {
   "metadata": {},
   "cell_type": "code",
   "source": [
    "from repo_prof.alberi.alberibinari import AlberoBin\n",
    "\n",
    "\n",
    "def verifica_somma(a: AlberoBin, l: int) -> bool:\n",
    "    if a is None:\n",
    "        return False\n",
    "    somma = [0, 0]\t#indica rispettivamente la somma dei nodi appartenenti al livello l e la somma delle foglie dell'albero binario\n",
    "    _verifica_somma(a, l, 0, somma)\n",
    "    return somma[0] == somma[1]\n",
    "\n",
    "def _verifica_somma(a: AlberoBin, l: int, curr_l: int, somma: list[int]) -> None:\n",
    "    if a is None:\n",
    "        return\n",
    "    if curr_l == l:\t\t#nodo appartenente al livello l\n",
    "        somma[0] += a.val\n",
    "    if a.sin is None and a.des is None:\t\t#foglia\n",
    "        somma[1] += a.val\n",
    "    _verifica_somma(a.sin, l, curr_l + 1, somma)\n",
    "    _verifica_somma(a.des, l, curr_l + 1, somma)"
   ],
   "id": "9095a538ee046383",
   "outputs": [],
   "execution_count": null
  },
  {
   "metadata": {},
   "cell_type": "markdown",
   "source": [
    "### Costi:\n",
    "$CTP(n) = CTM(n) = \\Theta(n)$\t\tvisito tutti i nodi essendo che occorre arrivare alle foglie\\\n",
    "$CSP(n) = \\Theta(n)$\t\tnel caso di un albero degenere\\\n",
    "$CSM(n) = \\Theta(log_2(n))$\t\tnel caso di un albero bilanciato"
   ],
   "id": "f92763ff56562ae0"
  },
  {
   "metadata": {},
   "cell_type": "markdown",
   "source": [
    "# Esercizio 2\n",
    "Preso un generico algoritmo divide et impera che a ogni passo suddivide l'istanza corrente in 3 sotto-istanze dello stesso problema, ciascuna di dimensione $n/2$ (dove n è la dimensione dell'istanza in esame), si ricavi la complessità dell'algoritmo supponendo che al netto delle chiamate ricorsive la singola chiamata abbia complessità $b \\times n$, dove b è una costante."
   ],
   "id": "e222ad757a63d2d9"
  }
 ],
 "metadata": {
  "kernelspec": {
   "display_name": "Python 3",
   "language": "python",
   "name": "python3"
  },
  "language_info": {
   "codemirror_mode": {
    "name": "ipython",
    "version": 2
   },
   "file_extension": ".py",
   "mimetype": "text/x-python",
   "name": "python",
   "nbconvert_exporter": "python",
   "pygments_lexer": "ipython2",
   "version": "2.7.6"
  }
 },
 "nbformat": 4,
 "nbformat_minor": 5
}
