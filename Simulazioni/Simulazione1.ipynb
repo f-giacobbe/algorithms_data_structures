{
 "cells": [
  {
   "cell_type": "markdown",
   "id": "5cc18163d1c637d5",
   "metadata": {},
   "source": [
    "# Esercizio 1\n",
    "Si consideri la classe AlberoBin. Si crei il metodo `verifica_somma(a: AlberoBin, l: int) -> bool` che restituisce True sse la somma dei valori nei nodi foglia di a è pari alla somma dei nodi contenuti al livello liv di a"
   ]
  },
  {
   "cell_type": "code",
   "execution_count": null,
   "id": "9095a538ee046383",
   "metadata": {},
   "outputs": [],
   "source": [
    "from repo_prof.alberi.alberibinari import AlberoBin\n",
    "\n",
    "\n",
    "def verifica_somma(a: AlberoBin, l: int) -> bool:\n",
    "    if a is None:\n",
    "        return False\n",
    "    somma = [0, 0]\t#indica rispettivamente la somma dei nodi appartenenti al livello l e la somma delle foglie dell'albero binario\n",
    "    _verifica_somma(a, l, 0, somma)\n",
    "    return somma[0] == somma[1]\n",
    "\n",
    "def _verifica_somma(a: AlberoBin, l: int, curr_l: int, somma: list[int]) -> None:\n",
    "    if a is None:\n",
    "        return\n",
    "    if curr_l == l:\t\t#nodo appartenente al livello l\n",
    "        somma[0] += a.val\n",
    "    if a.sin is None and a.des is None:\t\t#foglia\n",
    "        somma[1] += a.val\n",
    "    _verifica_somma(a.sin, l, curr_l + 1, somma)\n",
    "    _verifica_somma(a.des, l, curr_l + 1, somma)"
   ]
  },
  {
   "cell_type": "markdown",
   "id": "f92763ff56562ae0",
   "metadata": {},
   "source": [
    "### Costi:\n",
    "$CTP(n) = CTM(n) = \\Theta(n)$\t\tvisito tutti i nodi essendo che occorre arrivare alle foglie\\\n",
    "$CSP(n) = \\Theta(n)$\t\tnel caso di un albero degenere\\\n",
    "$CSM(n) = \\Theta(log_2(n))$\t\tnel caso di un albero bilanciato"
   ]
  },
  {
   "cell_type": "markdown",
   "id": "e222ad757a63d2d9",
   "metadata": {},
   "source": [
    "___\n",
    "# Esercizio 2\n",
    "Preso un generico algoritmo divide et impera che a ogni passo suddivide l'istanza corrente in 3 sotto-istanze dello stesso problema, ciascuna di dimensione $n/2$ (dove n è la dimensione dell'istanza in esame), si ricavi la complessità dell'algoritmo supponendo che al netto delle chiamate ricorsive la singola chiamata abbia complessità $b \\times n$, dove b è una costante.\n",
    "\n",
    "> L'algoritmo in questione ha come equazione di ricorrenza la seguente:\n",
    "> $$\n",
    "> \\begin{cases}\n",
    "> T(n) = 3T(n/2) + bn \\quad \\text{se } n > 1 \\\\\n",
    "> T(n) = b \\quad \\text{se } n \\le 1\n",
    "> \\end{cases}\n",
    "> $$\n",
    "> Si tratta in questo caso di un algoritmo di tipo divide et impera di tipologia 1, ed è utile in questi casi il teorema master. Avendo come parametri a=3, c=2, d=1, avremo che il rapporto\n",
    "> $$\n",
    "> \\frac{a}{c^d} = \\frac{3}{2} > 1\n",
    "> $$\n",
    "> Ricadiamo dunque nel terzo caso del teorema; quello in cui la complessità dell'algoritmo è data da $\\Theta(n^{log_ca})$, ovvero in questo caso $\\Theta(n^{log_23})$"
   ]
  }
 ],
 "metadata": {
  "kernelspec": {
   "display_name": "Python 3",
   "language": "python",
   "name": "python3"
  },
  "language_info": {
   "codemirror_mode": {
    "name": "ipython",
    "version": 2
   },
   "file_extension": ".py",
   "mimetype": "text/x-python",
   "name": "python",
   "nbconvert_exporter": "python",
   "pygments_lexer": "ipython2",
   "version": "2.7.6"
  }
 },
 "nbformat": 4,
 "nbformat_minor": 5
}
