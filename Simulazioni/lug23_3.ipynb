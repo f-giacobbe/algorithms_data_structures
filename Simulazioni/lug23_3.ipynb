{
 "cells": [
  {
   "cell_type": "markdown",
   "id": "af1610b2",
   "metadata": {},
   "source": [
    "# Esercizio 1\n",
    "Si deve realizzare una funzione ricorsiva `def verifica(a:AlberoBin, b: AlberoBin, v: int) -> bool:` che restituisce true se e solo se esiste almeno una coppia di nodi non foglia (x, y) tale che x\n",
    "appartiene all’albero a, y appartiene all’albero b, x.val == y.val() == v e tale che il sottoalbero\n",
    "radicato in x sia uguale al sottoalbero radicato in y.\n",
    "Si caratterizzi la complessità temporale e spaziale del metodo nel caso migliore e peggiore,\n",
    "specificando anche quali siano il caso migliore ed il caso peggiore per la complessità temporale e\n",
    "spaziale."
   ]
  },
  {
   "cell_type": "code",
   "execution_count": null,
   "id": "28b597b3",
   "metadata": {},
   "outputs": [],
   "source": [
    "from repo_prof.alberi.alberibinari import AlberoBin\n",
    "\n",
    "def verifica(a: AlberoBin, b: AlberoBin, v: int) -> bool:\n",
    "    if a is None or b is None:\n",
    "        return False\n",
    "\n",
    "    return __verifica(a, b, v)\n",
    "\n",
    "\n",
    "def __verifica(a: AlberoBin, b: AlberoBin, v: int) -> bool:\n",
    "    if a is None or b is None or (a.sin is None and a.des is None) or (b.sin is None and b.des is None): # Nodo foglia\n",
    "        return False\n",
    "\n",
    "    if a.val == b.val == v:\n",
    "        return __uguali(a.sin, b.sin) and __uguali(a.des, b.des)\n",
    "\n",
    "    if a.val == v:\n",
    "        return __verifica(a, b.sin, v) or __verifica(a, b.des, v)\n",
    "\n",
    "    if b.val == v:\n",
    "        return __verifica(a.sin, b, v) or __verifica(a.des, b, v)\n",
    "\n",
    "    # Sia a.val che b.val sono diversi da v\n",
    "    return __verifica(a.sin, b.sin, v) or __verifica(a.sin, b.des, v) or __verifica(a.des, b.sin, v) or __verifica(a.des, b.des, v)\n",
    "\n",
    "\n",
    "def __uguali(a: AlberoBin, b: AlberoBin):\n",
    "    if a is None and b is None:\n",
    "        return True\n",
    "    if a is None or b is None:\n",
    "        return False\n",
    "\n",
    "    return a.val == b.val and __uguali(a.sin, b.sin) and __uguali(a.des, b.des)"
   ]
  },
  {
   "cell_type": "markdown",
   "id": "9d3c1a64",
   "metadata": {},
   "source": [
    "## Complessità:\n",
    "Sia $n$ la dimensione (intesa come numero di nodi) dell'albero a e sia $m$ la dimensione dell'albero b.\n",
    "- $CTM(n,m) = \\Theta(1)$ nel caso in cui, ad esempio, sia a che b presentano come figlio sinistro della radice proprio un nodo con valore v e a loro volta, entrambi i nodi (sia nell'albero a che nell'albero b) presentano un solo figlio sinistro o destro identico in entrambi i casi. In questo caso il metodo `__verifica` è costante in quanto `__uguali` dovrà confrontare un unico valore.\n",
    "- $CSM(n,m) = \\Theta(1)$ nello stesso caso.\n",
    "- $CTP(n,m) = \\Theta(min(n,m)^2)$ quando in entrambi gli alberi il valore v compare molte volte, soprattutto nella parte alta degli alberi, e i sottoalberi sono uguali se non per l'ultimo valore più in basso, dunque ogni volta che viene trovato il valore v in entrambi gli alberi in nodi non foglia viene chiamato il metodo `__uguali` che però restituirà False dopo però aver scandito entrambi i sottoalberi nella loro interezza.\n",
    "- $CSP(n,m) = \\Theta(min(n,m))$ nello stesso caso della CTP, oppure semplicemente quando entrambi gli alberi non contengono il valore v.\n",
    "---"
   ]
  },
  {
   "cell_type": "markdown",
   "id": "e7fd88bd",
   "metadata": {},
   "source": [
    "# Esercizio 2\n",
    "Descrivere le strutture dati UnionFind di tipo QuickFind (con e senza euristica sul bilanciamento),\n",
    "le operazioni che supportano e la loro complessità.\n",
    "> Le strutture dati di tipo UnionFind, in generale, supportano e rendono efficienti operazioni come `makeSet, find e union`, dove la prima crea un insieme unitario a partire da un elemento (un singleton) e ha sempre complessità $\\Theta(1)$, la seconda prende in input un elemento e restituisce il nome dell'insieme al quale appartiene, mentre la terza prende in input due insiemi e li unisce. La complessità delle ultime due operazioni dipende da come vengono implementati gli insiemi. In particoalre, le strutture UnionFind di tipologia QuickFind, come suggerisce il nome, rende efficiente l'operazione di `find` implementando l'insieme come un albero piatto (a un solo livello), dove la radice rappresenta il nome dell'insieme mentre le foglie sono gli elementi. In una struttura del genere la `find` ha quindi costo $\\Theta(1)$ in quanto a partire da un elemento si può arrivare alla radice (e quindi al nome dell'insieme che lo contiene) in maniera immediata. Con questa struttura, tuttavia, l'operazione di `union` è invece lineare in quanto unendo, ad esempio, l'insieme A con l'insieme B, sarà necessario per ogni elemento appartenente a B spostare il puntatore al padre per farlo puntare invece alla radice di A. È possibile però ottimizzare il QuickFind per rendere il costo della `union` pari a $\\Theta(log_2n)$ (ammortizzato), dove n è il numero di `makeSet` effettuati, e quindi il numero di elementi. Semplicemente funziona confrontando la cardinalità dei due insiemi e fisicamente spostando i puntatori dalle foglie appartenenti all'insieme di cardinalità minore alla radice di quello a cardinalità più elevata, minimizzando di fatto il numero di puntatori che occorre spostare. Il costo è facilmente calcolabile se si osserva che quando una foglia cambia padre a seguito di una `union`, l'insieme in cui andrà a risiedere avrà cardinalità pari almeno al doppio rispetto a quella del suo vecchio insieme. Dunque attraverso la *tecnica dei crediti*, assegnando a ogni nodo $log_2n$ crediti, si osserva come anche a seguito di un numero massimo di `union` pari a $n-1$ (dopodiché si ottiene un insieme contenente tutti gli elementi) un dato nodo cambia al più $log_2n$ padri."
   ]
  }
 ],
 "metadata": {
  "language_info": {
   "name": "python"
  }
 },
 "nbformat": 4,
 "nbformat_minor": 5
}
