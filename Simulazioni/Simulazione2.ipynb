{
 "cells": [
  {
   "metadata": {},
   "cell_type": "markdown",
   "source": [
    "# Esercizio 1\n",
    "Si consideri una classe AlberoBin che rappresenta alberi binari in cui la parte informativa di ogni nodo è un numero intero. Si assuma che in tale classe siano implementati i seguenti metodi:\n",
    "\n",
    "```py\n",
    "class AlberoBin:\n",
    "\tdef __init__(self, val):\n",
    "\t\tself.sin: AlberoBin = None\n",
    "\t\tself.des: AlberoBin = None\n",
    "```\n",
    "\n",
    "Si deve realizzare una funzione ricorsiva\\\n",
    "`def twoSum(a:AlberoBin, z: int) ->bool:`\n",
    "\n",
    "\n",
    "che restituisce true se e solo se esiste nell'albero a, almeno un nodo non foglia p tale che ogni nodo foglia q appartenente al sottoalbero destro di p abbia un valore tale che $p.val() + q.val() = z$.\n",
    "Si caratterizzi la complessità temporale e spaziale del metodo nel caso migliore e peggiore, specificando anche quali siano il caso migliore ed il caso peggiore per la complessità temporale e spaziale."
   ],
   "id": "6e6cd1da0753a8af"
  },
  {
   "metadata": {},
   "cell_type": "code",
   "source": [
    "from repo_prof.alberi.alberibinari import AlberoBin\n",
    "\n",
    "\n",
    "\n",
    "def twoSum(a: AlberoBin, z: int) -> bool:\n",
    "\tif a is None or (a.sin is None and a.des is None):\n",
    "\t\treturn False\n",
    "\n",
    "\treturn verifica_foglie(a, z) or twoSum(a.sin, z) or twoSum(a.des, z)\n",
    "\n",
    "\n",
    "def verifica_foglie(a: AlberoBin, z: int) -> bool:\n",
    "\t#metodo che dato un nodo non foglia verifica se a.val + foglia.val = z per ogni foglia del sottoalbero destro\n",
    "\tif a is None or (a.sin is None and a.des is None):\n",
    "\t\treturn False\n",
    "\n",
    "\tfoglie_destre: list[int] = _foglie(a.des)\n",
    "\tfor q in foglie_destre:\n",
    "\t\tif a.val + q != z:\n",
    "\t\t\treturn False\n",
    "\n",
    "\t#se tutte le foglie rispettano il requisito\n",
    "\treturn True\n",
    "\n",
    "\n",
    "def _foglie(a: AlberoBin, res: list[int] = []) -> list[int]:\n",
    "\t#metodo che restituisce una lista contenente il valore di tutte le foglie di un albero a\n",
    "\tif a is None:\n",
    "\t\treturn res\n",
    "\n",
    "\tif a.sin is None and a.des is None:\t\t#se sono una foglia, mi aggiungo alla lista\n",
    "\t\tres.append(a.val)\n",
    "\telse:\n",
    "\t\tres = _foglie(a.sin, res)\n",
    "\t\tres = _foglie(a.des, res)\n",
    "\n",
    "\treturn res"
   ],
   "id": "7f07e0e34212bdd",
   "outputs": [],
   "execution_count": null
  },
  {
   "metadata": {},
   "cell_type": "markdown",
   "source": [
    "### Costi\n",
    "Sia n il numero di nodi appartenenti all'albero a\n",
    ">$CTM(n) = \\Theta(1)$ se la radice ha un solo foglio destro che è una foglia tale per cui la condizione è rispettata\\\n",
    ">$CSM(n) = \\Theta(1)$ per lo stesso motivo\\\n",
    ">\\\n",
    ">$CTP(n) = O(n^2)$ se per ogni nodo controllo tutte le foglie del suo sottoalbero destro e nessuna rispetta il requisito\\\n",
    ">$CSP(n) = O(n^2)$ per lo stesso motivo"
   ],
   "id": "7284da6663ea54ba"
  },
  {
   "metadata": {},
   "cell_type": "markdown",
   "source": [
    "___\n",
    "# Esercizio 2\n",
    "Analizzare, attraverso l'uso delle relazioni di ricorrenza, il caso peggiore per la complessità temporale dell'algoritmo QuickSort."
   ],
   "id": "e429625768251661"
  }
 ],
 "metadata": {
  "kernelspec": {
   "display_name": "Python 3",
   "language": "python",
   "name": "python3"
  },
  "language_info": {
   "codemirror_mode": {
    "name": "ipython",
    "version": 2
   },
   "file_extension": ".py",
   "mimetype": "text/x-python",
   "name": "python",
   "nbconvert_exporter": "python",
   "pygments_lexer": "ipython2",
   "version": "2.7.6"
  }
 },
 "nbformat": 4,
 "nbformat_minor": 5
}
