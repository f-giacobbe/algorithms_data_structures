{
 "cells": [
  {
   "cell_type": "markdown",
   "id": "13507323",
   "metadata": {},
   "source": [
    "# Esercizio 1\n",
    "Si deve realizzare una funzione ricorsiva\n",
    "`def prodottoNonFoglie(a:AlberoBin) ->int:`\n",
    "che restituisce il prodotto dei valori contenuti nei nodi non foglia di a. \n",
    "Si caratterizzi la complessità temporale e spaziale del metodo nel caso migliore e peggiore, specificando anche quali siano il caso migliore ed il caso peggiore per la complessità temporale e spaziale."
   ]
  },
  {
   "cell_type": "code",
   "execution_count": 8,
   "id": "8d66f421",
   "metadata": {},
   "outputs": [],
   "source": [
    "from repo_prof.alberi.alberibinari import AlberoBin\n",
    "\n",
    "\n",
    "\n",
    "def prodottoNonFoglie(a: AlberoBin) -> int:\n",
    "    if a is None:\n",
    "        return 0\n",
    "    \n",
    "    return __prodottoNonFoglie(a, True)\n",
    "\n",
    "\n",
    "def __prodottoNonFoglie(a: AlberoBin, root: bool) -> int:\n",
    "    if a.sin is None and a.des is None:     # Se nodo foglia\n",
    "        if not root:\n",
    "            return 1    # L'elemento neutro della moltiplicazione\n",
    "        return 0\n",
    "    \n",
    "    return a.val * __prodottoNonFoglie(a.sin, False) * __prodottoNonFoglie(a.des, False)"
   ]
  },
  {
   "cell_type": "markdown",
   "id": "dc7c80d0",
   "metadata": {},
   "source": [
    "## Complessità\n",
    "- $CTM(n) = \\Theta(n)$. Si ha nel caso di un albero degenere (tutto a sinistra)\n",
    "- $CSM(n) = \\Theta(n)$. Per lo stesso motivo della CTM.\n",
    "- $CTP(n) = \\Theta(n^2)$. Si ha nel caso in cui l'albero sia un albero completo\n",
    "- $CSP(n) = \\Theta(n)$. Si ha nel caso il cui l'albero sia un albero degenere"
   ]
  },
  {
   "cell_type": "markdown",
   "id": "87f8a45f",
   "metadata": {},
   "source": [
    "---\n",
    "# Esercizio 2\n",
    "Fornire la definizione formale di albero ricoprente e di minimo albero ricoprente di un grafo non orientato e pesato sugli archi. Inoltre, si descriva l'algoritmo di Kruskal usando un linguaggio di programmazione a scelta o in pseudocodice e se ne analizzi la complessità temporale.\n",
    "\n",
    "> Sia G un grafo non orientato e pesato sugli archi, definiamo il suo albero ricoprente un grafo non orientato, aciclico e connesso tale che contenga gli stessi nodi di G, i suoi archi siano un sottoinsieme degli archi di G e di > > conseguenza la sua funzione di costo $\\lambda$ sia data dalla funzione di costo di G ristretta all'insieme degli archi dell'albero ricoprente. Il costo dell'albero ricoprente è dato dalla somma dei pesi degli archi di cui è composto l'albero ricoprente.\n",
    "> $$\n",
    "> \\begin{gather}\n",
    "> G = < N, E, \\lambda > \\\\\n",
    "> \\text{A albero ricoprente} = < N, E \\prime, \\lambda_{E \\prime} > \\quad E \\prime \\subseteq E \\\\\n",
    "> costo(A) = \\sum_{e \\in E \\prime} \\lambda_{E \\prime}(e)\n",
    "> \\end{gather}\n",
    "> $$\n",
    "> Il minimo albero ricoprente di G è dunque un albero ricoprente tale che il suo costo risulti inferiore a tutti i possibili alberi ricoprenti di G, ovvero\n",
    "> $$\n",
    "> \\text{Sia A un albero ricoprente di G. A è detto minimo albero ricoprente di G se } \\forall A \\prime : A \\prime \\text{ è un albero ricoprente di G, } costo(A) < costo(A \\prime)\n",
    "> $$\n",
    "> I due algoritmi principali per trovare alberi ricoprenti sono l'algoritmo di Prim (basato su una struttura dati heap (modificabile)) e Kruskal. Quest'ultimo si basa su una struttura dati di tipo Union-Find, con bilanciamento QuickFind funziona innanzitutto ordinando gli archi per peso (costo: $mlogm$) per poi unire i nodi (inizialmente singleton) senza formare cicli. Per fare ciò si rilassa innanzitutto la condizione di connettività, partendo dunque da nodi disconnessi e, unendoli, si basa sul fatto che se si sta cercando di aggiungere un arco alla soluzione parziale di minimo albero ricoprente, ma i nodi su cui incide l'arco appartengono alla stessa componente connessa massimale, allora sono già connessi e aggiungendo dunque l'arco si creerebbe un ciclo. Ecco il codice Python:\n",
    "> ```python\n",
    "> def kruskal(g: GrafoNOP):\n",
    ">   archi_ordinati = sorted(g.archi, key = lambda arco: arco.peso)  # O(m*logm)\n",
    ">   forest: UnionFind = UnionFind(g.n)\n",
    ">   res = []\n",
    ">   count = 0\n",
    ">   for (x, y, p) in archi_ordinati:\n",
    ">       if forest.find(x) != forest.find(y):    # Theta(1) se QuickFind\n",
    ">           res.append((x, y, p))\n",
    ">           forest.union(forest.find(x), forest.find(y))    # O(logn) con QuickFind bilanciato\n",
    ">           count += 1\n",
    ">       if count == g.n - 1:\n",
    ">           return res\n",
    ">   return []\n",
    "> ```\n",
    "> Occorre notare che si paga un costo di $O(mlogm)$ per ordinare gli archi, mentre per ogni union si paga un costo di $O(logn)$, ma sappiamo che il numero di Union che verranno fatte sarà pari a $n-1$, dunque il costo dell'algoritmo sarà di $\\Theta(mlogm + nlogn)$."
   ]
  }
 ],
 "metadata": {
  "kernelspec": {
   "display_name": "Python 3",
   "language": "python",
   "name": "python3"
  },
  "language_info": {
   "codemirror_mode": {
    "name": "ipython",
    "version": 3
   },
   "file_extension": ".py",
   "mimetype": "text/x-python",
   "name": "python",
   "nbconvert_exporter": "python",
   "pygments_lexer": "ipython3",
   "version": "3.9.6"
  }
 },
 "nbformat": 4,
 "nbformat_minor": 5
}
