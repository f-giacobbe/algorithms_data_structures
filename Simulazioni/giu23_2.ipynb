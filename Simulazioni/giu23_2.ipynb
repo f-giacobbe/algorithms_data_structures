{
 "cells": [
  {
   "cell_type": "markdown",
   "id": "e6c700f2",
   "metadata": {},
   "source": [
    "# Esercizio 1\n",
    "Si deve realizzare una funzione ricorsiva `def twoSum(a:AlberoBin, z: int) -> bool:` che restituisce true se e solo se esiste una coppia di nodi distinti non foglia x e y, che si trovano\n",
    "rispettivamente nel sottoalbero sinistro e destro di A ad un livello dispari (non necessariamente lo\n",
    "stesso livello), tale che x.val() + y.val() = z.\n",
    "Si caratterizzi la complessità temporale e spaziale del metodo nel caso migliore e peggiore,\n",
    "specificando anche quali siano il caso migliore ed il caso peggiore per la complessità temporale e\n",
    "spaziale."
   ]
  },
  {
   "cell_type": "code",
   "execution_count": null,
   "id": "7a711e78",
   "metadata": {},
   "outputs": [],
   "source": [
    "from repo_prof.alberi.alberibinari import AlberoBin\n",
    "\n",
    "\n",
    "\n",
    "def twoSum(a: AlberoBin, z: int) -> bool:\n",
    "    if a is None:\n",
    "        return False\n",
    "    return __twoSum(a, a.sin, z, 1)\n",
    "\n",
    "\n",
    "\n",
    "def __twoSum(radice: AlberoBin, a: AlberoBin, z: int, liv: int) -> bool:\n",
    "    if a is None or (a.sin is None and a.des is None):\n",
    "        return False\n",
    "    \n",
    "    if liv % 2 != 0:\n",
    "        x = a.val\n",
    "        return __ypresente(radice.des, x, z, 1)\n",
    "    \n",
    "    return __twoSum(radice, a.sin, z, liv + 1) or __twoSum(radice, a.des, z, liv + 1)\n",
    "\n",
    "\n",
    "\n",
    "def __ypresente(a: AlberoBin, z: int, x: int, liv: int) -> bool:    # Restituisce true se e solo se in a, ad un livello dispari, è presente un valore y tale che x != y e x + y = z\n",
    "    if a is None:\n",
    "        return False\n",
    "    \n",
    "    if liv % 2 != 0:\n",
    "        y = a.val\n",
    "        return x != y and x + y == z\n",
    "    \n",
    "    return __ypresente(a.sin, z, x, liv + 1) or __ypresente(a.des, z, x, liv + 1)"
   ]
  },
  {
   "cell_type": "markdown",
   "id": "fb52bc0f",
   "metadata": {},
   "source": [
    "## Complessità\n",
    "- $CTM(n) = \\Theta(1)$ nel caso in cui il figlio sx della radice e il figlio dx della radice siano proprio valori tali che la loro somma sia z.\n",
    "- $CSM(n) = \\Theta(1)$ nello stesso caso.\n",
    "- $CTP(n) = \\Theta(n^2)$ nel caso in cui ho un albero dove non esiste una coppia di nodi x,y che rispetti la condizione desiderata. In questo caso verranno eseguite $O(n)$ chiamate di `__twoSum` e, se a un livello dispari, ognuna farà una chiamata di `__ypresente`, avente costo $O(n)$.\n",
    "- $CSP(n) = \\Theta(n)$ nello stesso caso."
   ]
  },
  {
   "cell_type": "markdown",
   "id": "07d72f8d",
   "metadata": {},
   "source": [
    "---\n",
    "# Esercizio 2\n",
    "Preso un generico algoritmo divide et impera che ad ogni passo suddivide l’istanza corrente in 2\n",
    "sotto-istanze dello stesso problema, ciascuna di dimensione n/4 (dove n è la dimensione dell’istanza\n",
    "in esame), si ricavi la complessità dell’algoritmo supponendo che al netto delle chiamate ricorsive\n",
    "la singola chiamata abbia complessità k*n, dove k è una costante.\n",
    "\n",
    "> Si ha davanti un algoritmo divide et impera di tipologia 1. In questi casi è possibile utilizzare i risultati del teorema master per ricavarne la complessità. Il seguente algoritmo ha come equazione di ricorrenza\n",
    "> $$\n",
    "> T(n) = \n",
    "> \\begin{cases}\n",
    "> 2T(n/4) + kn \\quad \\text{se } n>1 \\\\\n",
    "> k \\quad \\text{se } n \\le 1\n",
    "> \\end{cases}\n",
    "> $$\n",
    "> Avremo dunque come parametri del teorema $a=2, c=4, d=1$. Rientriamo nel caso in cui $\\frac{a}{c^d} < 1$ e quindi la complessità sarà $\\Theta(n^d) = \\Theta(n)$"
   ]
  }
 ],
 "metadata": {
  "language_info": {
   "name": "python"
  }
 },
 "nbformat": 4,
 "nbformat_minor": 5
}
