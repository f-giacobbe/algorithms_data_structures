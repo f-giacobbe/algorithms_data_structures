{
 "cells": [
  {
   "cell_type": "markdown",
   "id": "759de7c8",
   "metadata": {},
   "source": [
    "# Esercizio 1\n",
    "Si consideri una classe AlberoBin che rappresenta alberi binari in cui la parte informativa di ogni\n",
    "nodo è un numero intero. Si assuma che in tale classe siano implementati i seguenti metodi:\n",
    "\n",
    "```python\n",
    "class AlberoBin:\n",
    "\tdef __init__(self, val):\n",
    "\t\tself.val: int = val\n",
    "\t\tself.sin: AlberoBin = None\n",
    "\t\tself.des: AlberoBin = None\n",
    "```\n",
    "Si deve realizzare una funzione ricorsiva `def verifica(a:AlberoBin, b: AlberoBin, k: int) -> bool:` che restituisce true se e solo se per ogni nodo foglia x di a, esistono almeno k nodi non foglia y nel\n",
    "sottoalbero destro di b tale che x.val() == y.val().\n",
    "Si caratterizzi la complessità temporale e spaziale del metodo nel caso migliore e peggiore,\n",
    "specificando anche quali siano il caso migliore ed il caso peggiore per la complessità temporale e\n",
    "spaziale."
   ]
  },
  {
   "cell_type": "code",
   "execution_count": null,
   "id": "1af4baf6",
   "metadata": {},
   "outputs": [],
   "source": [
    "from repo_prof.alberi.alberibinari import AlberoBin\n",
    "\n",
    "\n",
    "\n",
    "def verifica(a: AlberoBin, b: AlberoBin, k: int) -> bool:\n",
    "    if k < 0:\n",
    "        raise RuntimeError(\"k must be positive\")\n",
    "\n",
    "    if a is None:\n",
    "        return True\n",
    "\n",
    "    if a.sin is None and a.des is None: # Se sono ad un nodo foglia di a\n",
    "        return __verifica(a.val, b, k, 0)\n",
    "\n",
    "    return verifica(a.sin, b, k) and verifica(a.des, b, k)\n",
    "\n",
    "\n",
    "def __verifica(x_val: int, b: AlberoBin, k: int, count: int) -> bool:   # Restituisce True se e solo se il numero di nodi non-foglia in b aventi come valore x_val è >= k\n",
    "    if count >= k:\n",
    "        return True\n",
    "\n",
    "    if b.sin is None and b.des is None:     # Nodo foglia\n",
    "        return False\n",
    "\n",
    "    incremento = 0\n",
    "    if b.val == x_val:\n",
    "        incremento = 1\n",
    "\n",
    "    return __verifica(x_val, b.sin, k, count + incremento) or __verifica(x_val, b.des, k, count + incremento)"
   ]
  },
  {
   "cell_type": "markdown",
   "id": "f2486f08",
   "metadata": {},
   "source": [
    "## Complessità\n",
    "Siano n ed m rispettivamente il numero di nodi dell'albero a e dell'albero b.\n",
    "- $CTM(n, m) = \\Theta (m)$. Si ha nel caso in cui a ha subito un nodo foglia (ad esempio come figlio sx della radice) e, chiamando __verifica su b si scopre che non esistono almeno k nodi non-foglia in b aventi valore uguale al nodo x_val.\n",
    "- $CSM(n, m) = \\Theta (log_2 m)$. Si ha nel caso precedente dove però b è un albero bilanciato. In questo caso il numero massimo di chiamate attive in un dato istante è proporzionale al logaritmo del numero di nodi dell'albero b.\n",
    "- $CTP(n, m) = \\Theta (n \\times m)$. Si ha nel caso in cui a è un albero completo, avente quindi $2^{h-1} \\in \\Theta(2^{log_2 n} = n)$ foglie, dove ogni foglia rispetta la condizione desiderata. Tuttavia, il k-esimo nodo di b tale per cui vale la condizione (e quindi dopo il quale si fermano le chiamate ricorsive di __verifica) è situato tra gli ultimi livelli del sottoalbero destro di b, e questo vale per ogni foglia di a.\n",
    "- $CSP(n, m) = \\Theta (n + m)$. Si ha nel caso in cui l'albero a è un albero degenere tutto a sinistra (ha dunque una sola foglia) e quell'unica foglia non rispetta la condizione desiderata, per cui sarà necessario controllare ogni nodo di b, dove b è anche un albero degenere."
   ]
  },
  {
   "cell_type": "markdown",
   "id": "d8e14e7e",
   "metadata": {},
   "source": [
    "---\n",
    "# Esercizio 2\n",
    "Fornire la definizione formale di albero ricoprente e, successivamente, di minimo albero ricoprente.\n",
    "\n",
    "> Dato un grafo generico $G = < N, E, \\lambda >$, è possibile costruire un grafo che connette tutti i nodi di $G$ utilizzando soltanto archi $\\in E$. Se questo grafo è inoltre aciclico si tratta di un albero e viene detto albero ricoprente di $G$. Il costo di questo albero ricoprente è definito come la somma dei pesi di tutti gli archi utilizzati. Un grafo $G$ può avere diversi alberi ricoprenti; tra essi, quello ha costo strettamente inferiore rispetto a tutti gli altri viene detto minimo albero ricoprente. In particolare, è necessario che si tratti di un albero perché se presentasse cicli (e dunque non fosse un albero) ci sarebbero sempre archi che è possibile rimuovere, e presumendo che gli archi non abbiano pesi negativi, allora non converrebbe in alcun caso avere cicli."
   ]
  }
 ],
 "metadata": {
  "kernelspec": {
   "display_name": "Python 3",
   "language": "python",
   "name": "python3"
  },
  "language_info": {
   "codemirror_mode": {
    "name": "ipython",
    "version": 3
   },
   "file_extension": ".py",
   "mimetype": "text/x-python",
   "name": "python",
   "nbconvert_exporter": "python",
   "pygments_lexer": "ipython3",
   "version": "3.9.6"
  }
 },
 "nbformat": 4,
 "nbformat_minor": 5
}
